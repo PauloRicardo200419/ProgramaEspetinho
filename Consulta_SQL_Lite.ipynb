{
 "cells": [
  {
   "cell_type": "code",
   "execution_count": 15,
   "id": "3b47ac11",
   "metadata": {},
   "outputs": [
    {
     "name": "stdout",
     "output_type": "stream",
     "text": [
      "    id                        data  total           observacao\n",
      "0    1  2025-04-22 20:49:34.491593   15.0                 None\n",
      "1    2  2025-04-22 20:52:47.611519   15.0                 None\n",
      "2    3  2025-04-22 22:46:14.651012   14.0                 None\n",
      "3    4  2025-04-22 23:17:39.111812   15.0                     \n",
      "4    5  2025-04-22 23:49:17.978656   15.0                     \n",
      "5    6  2025-04-22 23:53:00.384120   15.0       teste gamer 03\n",
      "6    7  2025-04-22 23:55:28.146991   45.0   Sem molho especial\n",
      "7    8  2025-04-23 00:29:30.401022   15.0   sem molho especial\n",
      "8    9  2025-04-23 00:31:39.945005   15.0  com molho por favor\n",
      "9   10  2025-04-22 21:35:08.007255   15.0            sem molho\n",
      "10  11  2025-04-22 23:32:42.862924   15.0       mortarda extra\n",
      "11  12  2025-04-23 17:55:09.148166  112.0                     \n",
      "12  13  2025-04-23 17:55:49.497277  112.0                     \n",
      "13  14  2025-04-23 17:55:58.825308  112.0                     \n",
      "14  15  2025-04-23 17:56:01.867974  112.0                     \n",
      "15  16  2025-04-23 17:56:06.856929  112.0                     \n",
      "16  17  2025-04-23 17:56:58.809369  112.0                     \n",
      "17  18  2025-04-23 17:57:25.834183  112.0                     \n",
      "18  19  2025-04-23 20:28:43.121634    0.0                     \n",
      "19  20  2025-04-23 20:28:45.740642    0.0                     \n",
      "20  21  2025-04-23 20:28:47.658321    0.0                     \n",
      "21  22  2025-04-23 20:29:49.003471    0.0                     \n",
      "22  23  2025-04-23 20:33:28.072853    0.0                     \n",
      "23  24  2025-04-23 20:33:34.294398    0.0                     \n",
      "24  25  2025-04-23 20:51:13.923516   42.0                 None\n",
      "25  26  2025-04-23 21:36:46.216420  164.0                 None\n",
      "26  27  2025-04-25 21:26:46.879545   14.0                 None\n",
      "27  28  2025-04-25 21:36:15.001028   14.0                 None\n",
      "28  29  2025-04-25 21:44:46.491484    0.0          teastaetwar\n",
      "29  30  2025-04-25 21:45:10.518539    0.0           fwafwacsca\n",
      "30  31  2025-04-25 22:29:57.808433   14.0                 None\n",
      "31  32  2025-04-25 22:37:04.752336   14.0                 None\n",
      "32  33  2025-04-25 22:39:45.550721   14.0                     \n"
     ]
    }
   ],
   "source": [
    "import sqlite3\n",
    "import pandas as pd\n",
    "\n",
    "# Conectar ao banco de dados SQLite\n",
    "conn = sqlite3.connect(r'C:\\Users\\paulo.ramos\\ProgramaEspetinho\\instance\\database.db')\n",
    "\n",
    "# Carregar a tabela 'insumo' para um DataFrame do Pandas\n",
    "df_insumo = pd.read_sql_query(\"SELECT * FROM venda;\", conn)\n",
    "\n",
    "# Exibir o DataFrame\n",
    "print(df_insumo.head(100))\n",
    "\n",
    "# Fechar a conexão\n",
    "conn.close()\n"
   ]
  }
 ],
 "metadata": {
  "kernelspec": {
   "display_name": "base",
   "language": "python",
   "name": "python3"
  },
  "language_info": {
   "codemirror_mode": {
    "name": "ipython",
    "version": 3
   },
   "file_extension": ".py",
   "mimetype": "text/x-python",
   "name": "python",
   "nbconvert_exporter": "python",
   "pygments_lexer": "ipython3",
   "version": "3.11.9"
  }
 },
 "nbformat": 4,
 "nbformat_minor": 5
}
